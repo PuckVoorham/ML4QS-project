{
 "cells": [
  {
   "cell_type": "markdown",
   "id": "79682952",
   "metadata": {},
   "source": [
    "### Joris"
   ]
  },
  {
   "cell_type": "code",
   "execution_count": 1,
   "id": "f8e27715",
   "metadata": {},
   "outputs": [],
   "source": [
    "import pandas as pd\n",
    "import matplotlib.pyplot as plt\t\n",
    "import seaborn as sns\n",
    "import os\n",
    "import glob\n",
    "from pykalman import KalmanFilter\n",
    "import numpy as np\n",
    "import matplotlib.ticker as ticker"
   ]
  },
  {
   "cell_type": "code",
   "execution_count": null,
   "id": "ef51b168",
   "metadata": {},
   "outputs": [],
   "source": [
    "def plot_sensor_data_plt(sensor_data_dict, time_col=\"Time (s)\"):\n",
    "    fig, axs = plt.subplots(len(sensor_data_dict), 1, figsize=(15, 20), sharex=True)\n",
    "\n",
    "    if len(sensor_data_dict) == 1:\n",
    "        axs = [axs]\n",
    "\n",
    "    for ax, (label, df) in zip(axs, sensor_data_dict.items()):\n",
    "        if time_col not in df.columns:\n",
    "            continue\n",
    "        df = df.dropna()  # Verwijder lege rijen\n",
    "\n",
    "        time = df[time_col]\n",
    "        for col in df.columns:\n",
    "            if col == time_col:\n",
    "                continue\n",
    "            ax.plot(time, df[col], label=col)\n",
    "\n",
    "        ax.set_title(label)\n",
    "        ax.legend(loc='upper right')\n",
    "        ax.grid(False)  # Verwijder gridlines\n",
    "\n",
    "    axs[-1].set_xlabel('Time (s)')\n",
    "    plt.tight_layout()\n",
    "    plt.show()\n"
   ]
  },
  {
   "cell_type": "code",
   "execution_count": null,
   "id": "94cc6c58",
   "metadata": {},
   "outputs": [],
   "source": [
    "def plot_sensor_data(sensor_data_dict, time_col=\"Time (s)\", dpi=300,\n",
    "                              palette=[\"#FF5733\", \"#33FF57\", \"#3357FF\"], linewidth=1):\n",
    "    sns.set(style=\"whitegrid\", context=\"talk\", font_scale=1.1)\n",
    "    num_plots = len(sensor_data_dict)\n",
    "    \n",
    "    fig, axs = plt.subplots(num_plots, 1, figsize=(18, 5 * num_plots), sharex=True, dpi=dpi)\n",
    "    if num_plots == 1:\n",
    "        axs = [axs]\n",
    "\n",
    "    for ax, (label, df) in zip(axs, sensor_data_dict.items()):\n",
    "        if time_col not in df.columns:\n",
    "            continue\n",
    "\n",
    "        df_long = df.melt(id_vars=[time_col], var_name=\"Sensor Axis\", value_name=\"Value\")\n",
    "\n",
    "        sns.set_palette(palette)\n",
    "        sns.lineplot(data=df_long, x=time_col, y=\"Value\", hue=\"Sensor Axis\", ax=ax, linewidth=linewidth)\n",
    "\n",
    "        ax.set_title(label, weight='bold', fontsize=14)\n",
    "        ax.set_ylabel(\"Value\")\n",
    "        ax.grid(False)\n",
    "\n",
    "        # Legend outside\n",
    "        box = ax.get_position()\n",
    "        ax.set_position([box.x0, box.y0, box.width * 0.85, box.height])  # Shrink plot to make space\n",
    "        ax.legend(title=\"Axis\", loc='center left', bbox_to_anchor=(1.01, 0.5), fontsize='small', title_fontsize='small')\n",
    "\n",
    "        ax.yaxis.set_major_formatter(ticker.FuncFormatter(lambda x, _: f'{x:g}'))\n",
    "\n",
    "    axs[-1].set_xlabel(\"Time (s)\", weight='bold')\n",
    "    \n",
    "    plt.show()"
   ]
  },
  {
   "cell_type": "markdown",
   "id": "770d2b78",
   "metadata": {},
   "source": [
    "Joris"
   ]
  },
  {
   "cell_type": "code",
   "execution_count": 2,
   "id": "e55dedda",
   "metadata": {},
   "outputs": [],
   "source": [
    "metro_accelerometer_df_2 = pd.read_csv(r\"C:\\Users\\jdrij\\OneDrive\\Bureaublad\\Master\\ML_Github\\ML4QS-project\\data\\experiment_metro_joris\\Accelerometer.csv\")\n",
    "metro_barometer_df_2 = pd.read_csv(r\"C:\\Users\\jdrij\\OneDrive\\Bureaublad\\Master\\ML_Github\\ML4QS-project\\data\\experiment_metro_joris\\Barometer.csv\")\n",
    "metro_gyroscope_df_2 = pd.read_csv(r\"C:\\Users\\jdrij\\OneDrive\\Bureaublad\\Master\\ML_Github\\ML4QS-project\\data\\experiment_metro_joris\\Gyroscope.csv\")\n",
    "metro_linear_accelerometer_df_2 = pd.read_csv(r\"C:\\Users\\jdrij\\OneDrive\\Bureaublad\\Master\\ML_Github\\ML4QS-project\\data\\experiment_metro_joris\\Linear Accelerometer.csv\")\n",
    "metro_location_df_2 = pd.read_csv(r\"C:\\Users\\jdrij\\OneDrive\\Bureaublad\\Master\\ML_Github\\ML4QS-project\\data\\experiment_metro_joris\\Location.csv\")\n",
    "metro_magnetometer_df_2 = pd.read_csv(r\"C:\\Users\\jdrij\\OneDrive\\Bureaublad\\Master\\ML_Github\\ML4QS-project\\data\\experiment_metro_joris\\Magnetometer.csv\")\n",
    "metro_proximity_df_2 = pd.read_csv(r\"C:\\Users\\jdrij\\OneDrive\\Bureaublad\\Master\\ML_Github\\ML4QS-project\\data\\experiment_metro_joris\\Proximity.csv\")"
   ]
  },
  {
   "cell_type": "code",
   "execution_count": 3,
   "id": "27e91de3",
   "metadata": {},
   "outputs": [],
   "source": [
    "sensor_data_dict_metro_2 = {\n",
    "    \"Accelerometer\": metro_accelerometer_df_2,\n",
    "    \"Gyroscope\": metro_gyroscope_df_2,\n",
    "    \"Linear Accelerometer\": metro_linear_accelerometer_df_2,\n",
    "    \"Magnetometer\": metro_magnetometer_df_2,\n",
    "    \"Barometer\": metro_barometer_df_2,\n",
    "    # Voeg hier eventueel meer toe zoals hartslag, licht, labels etc.\n",
    "}\n"
   ]
  },
  {
   "cell_type": "code",
   "execution_count": 4,
   "id": "40925c2f",
   "metadata": {},
   "outputs": [],
   "source": [
    "accelerometer_df_fietsen_2 = pd.read_csv(r\"C:\\Users\\jdrij\\OneDrive\\Bureaublad\\Master\\ML_Github\\ML4QS-project\\data\\experiment_fietsen_joris\\Accelerometer.csv\")\n",
    "barometer_df_fietsen_2 = pd.read_csv(r\"C:\\Users\\jdrij\\OneDrive\\Bureaublad\\Master\\ML_Github\\ML4QS-project\\data\\experiment_fietsen_joris\\Barometer.csv\")\n",
    "gyroscope_df_fietsen_2 = pd.read_csv(r\"C:\\Users\\jdrij\\OneDrive\\Bureaublad\\Master\\ML_Github\\ML4QS-project\\data\\experiment_fietsen_joris\\Gyroscope.csv\")\n",
    "linear_accelerometer_df_fietsen_2 = pd.read_csv(r\"C:\\Users\\jdrij\\OneDrive\\Bureaublad\\Master\\ML_Github\\ML4QS-project\\data\\experiment_fietsen_joris\\Linear Accelerometer.csv\")\n",
    "location_df_fietsen_2 = pd.read_csv(r\"C:\\Users\\jdrij\\OneDrive\\Bureaublad\\Master\\ML_Github\\ML4QS-project\\data\\experiment_fietsen_joris\\Location.csv\")\n",
    "magnetometer_df_fietsen_2 = pd.read_csv(r\"C:\\Users\\jdrij\\OneDrive\\Bureaublad\\Master\\ML_Github\\ML4QS-project\\data\\experiment_fietsen_joris\\Magnetometer.csv\")\n",
    "proximity_df_fietsen_2 = pd.read_csv(r\"C:\\Users\\jdrij\\OneDrive\\Bureaublad\\Master\\ML_Github\\ML4QS-project\\data\\experiment_fietsen_joris\\Proximity.csv\")"
   ]
  },
  {
   "cell_type": "code",
   "execution_count": 5,
   "id": "262463ca",
   "metadata": {},
   "outputs": [],
   "source": [
    "sensor_data_dict_fietsen_2 = {\n",
    "    \"Accelerometer\": accelerometer_df_fietsen_2,\n",
    "    \"Gyroscope\": gyroscope_df_fietsen_2,\n",
    "    \"Linear Accelerometer\": linear_accelerometer_df_fietsen_2,\n",
    "    \"Magnetometer\": magnetometer_df_fietsen_2,\n",
    "    \"Barometer\": barometer_df_fietsen_2\n",
    "    # Voeg hier eventueel meer toe zoals hartslag, licht, labels etc.\n",
    "}"
   ]
  },
  {
   "cell_type": "code",
   "execution_count": null,
   "id": "47bba3bd",
   "metadata": {},
   "outputs": [],
   "source": [
    "# auto_accelerometer_df_2 = pd.read_csv(r\"C:\\Users\\jdrij\\OneDrive\\Bureaublad\\Master\\ML_Github\\ML4QS-project\\data\\experiment_auto_joris\\Accelerometer.csv\")\n",
    "# auto_barometer_df_2 = pd.read_csv(r\"C:\\Users\\jdrij\\OneDrive\\Bureaublad\\Master\\ML_Github\\ML4QS-project\\data\\experiment_auto_joris\\Barometer.csv\")\n",
    "# auto_gyroscope_df_2 = pd.read_csv(r\"C:\\Users\\jdrij\\OneDrive\\Bureaublad\\Master\\ML_Github\\ML4QS-project\\data\\experiment_auto_joris\\Gyroscope.csv\")\n",
    "# auto_linear_accelerometer_df_2 = pd.read_csv(r\"C:\\Users\\jdrij\\OneDrive\\Bureaublad\\Master\\ML_Github\\ML4QS-project\\data\\experiment_auto_joris\\Linear Accelerometer.csv\")\n",
    "# auto_location_df_2 = pd.read_csv(r\"C:\\Users\\jdrij\\OneDrive\\Bureaublad\\Master\\ML_Github\\ML4QS-project\\data\\experiment_auto_joris\\Location.csv\")\n",
    "# auto_magnetometer_df_2 = pd.read_csv(r\"C:\\Users\\jdrij\\OneDrive\\Bureaublad\\Master\\ML_Github\\ML4QS-project\\data\\experiment_auto_joris\\Magnetometer.csv\")\n",
    "# auto_proximity_df_2 = pd.read_csv(r\"C:\\Users\\jdrij\\OneDrive\\Bureaublad\\Master\\ML_Github\\ML4QS-project\\data\\experiment_auto_joris\\Proximity.csv\")"
   ]
  },
  {
   "cell_type": "code",
   "execution_count": null,
   "id": "7cadb928",
   "metadata": {},
   "outputs": [],
   "source": [
    "# sensor_data_dict_auto_2 = {\n",
    "#     \"Accelerometer\": auto_accelerometer_df_2,\n",
    "#     \"Gyroscope\": auto_gyroscope_df_2,\n",
    "#     \"Linear Accelerometer\": auto_linear_accelerometer_df_2,\n",
    "#     \"Magnetometer\": auto_magnetometer_df_2,\n",
    "#     \"Barometer\": auto_barometer_df_2,\n",
    "#     # Voeg hier eventueel meer toe zoals hartslag, licht, labels etc.\n",
    "# }\n",
    "\n"
   ]
  },
  {
   "cell_type": "code",
   "execution_count": 8,
   "id": "04e7b464",
   "metadata": {},
   "outputs": [],
   "source": [
    "auto_accelerometer_df_2 = pd.read_csv(r\"C:\\Users\\jdrij\\OneDrive\\Bureaublad\\Master\\ML_Github\\ML4QS-project\\data\\experiment_auto_joris_2\\Accelerometer.csv\")\n",
    "auto_barometer_df_2 = pd.read_csv(r\"C:\\Users\\jdrij\\OneDrive\\Bureaublad\\Master\\ML_Github\\ML4QS-project\\data\\experiment_auto_joris_2\\Barometer.csv\")\n",
    "auto_gyroscope_df_2 = pd.read_csv(r\"C:\\Users\\jdrij\\OneDrive\\Bureaublad\\Master\\ML_Github\\ML4QS-project\\data\\experiment_auto_joris_2\\Gyroscope.csv\")\n",
    "auto_linear_accelerometer_df_2 = pd.read_csv(r\"C:\\Users\\jdrij\\OneDrive\\Bureaublad\\Master\\ML_Github\\ML4QS-project\\data\\experiment_auto_joris_2\\Linear Accelerometer.csv\")\n",
    "auto_location_df_2 = pd.read_csv(r\"C:\\Users\\jdrij\\OneDrive\\Bureaublad\\Master\\ML_Github\\ML4QS-project\\data\\experiment_auto_joris_2\\Location.csv\")\n",
    "auto_magnetometer_df_2 = pd.read_csv(r\"C:\\Users\\jdrij\\OneDrive\\Bureaublad\\Master\\ML_Github\\ML4QS-project\\data\\experiment_auto_joris_2\\Magnetometer.csv\")\n",
    "auto_proximity_df_2 = pd.read_csv(r\"C:\\Users\\jdrij\\OneDrive\\Bureaublad\\Master\\ML_Github\\ML4QS-project\\data\\experiment_auto_joris_2\\Proximity.csv\")"
   ]
  },
  {
   "cell_type": "code",
   "execution_count": 7,
   "id": "75b64fcd",
   "metadata": {},
   "outputs": [],
   "source": [
    "sensor_data_dict_auto_2 = {\n",
    "    \"Accelerometer\": auto_accelerometer_df_2,\n",
    "    \"Gyroscope\": auto_gyroscope_df_2,\n",
    "    \"Linear Accelerometer\": auto_linear_accelerometer_df_2,\n",
    "    \"Magnetometer\": auto_magnetometer_df_2,\n",
    "    \"Barometer\": auto_barometer_df_2,\n",
    "    # Voeg hier eventueel meer toe zoals hartslag, licht, labels etc.\n",
    "}"
   ]
  },
  {
   "cell_type": "code",
   "execution_count": 9,
   "id": "1695ad8f",
   "metadata": {},
   "outputs": [],
   "source": [
    "rennen_accelerometer_df_2 = pd.read_csv(r\"C:\\Users\\jdrij\\OneDrive\\Bureaublad\\Master\\ML_Github\\ML4QS-project\\data\\experiment_rennen_joris\\Accelerometer.csv\")\n",
    "rennen_barometer_df_2 = pd.read_csv(r\"C:\\Users\\jdrij\\OneDrive\\Bureaublad\\Master\\ML_Github\\ML4QS-project\\data\\experiment_rennen_joris\\Barometer.csv\")\n",
    "rennen_gyroscope_df_2 = pd.read_csv(r\"C:\\Users\\jdrij\\OneDrive\\Bureaublad\\Master\\ML_Github\\ML4QS-project\\data\\experiment_rennen_joris\\Gyroscope.csv\")\n",
    "rennen_linear_accelerometer_df_2 = pd.read_csv(r\"C:\\Users\\jdrij\\OneDrive\\Bureaublad\\Master\\ML_Github\\ML4QS-project\\data\\experiment_rennen_joris\\Linear Accelerometer.csv\")\n",
    "rennen_location_df_2 = pd.read_csv(r\"C:\\Users\\jdrij\\OneDrive\\Bureaublad\\Master\\ML_Github\\ML4QS-project\\data\\experiment_rennen_joris\\Location.csv\")\n",
    "rennen_magnetometer_df_2 = pd.read_csv(r\"C:\\Users\\jdrij\\OneDrive\\Bureaublad\\Master\\ML_Github\\ML4QS-project\\data\\experiment_rennen_joris\\Magnetometer.csv\")\n",
    "rennen_proximity_df_2 = pd.read_csv(r\"C:\\Users\\jdrij\\OneDrive\\Bureaublad\\Master\\ML_Github\\ML4QS-project\\data\\experiment_rennen_joris\\Proximity.csv\")"
   ]
  },
  {
   "cell_type": "code",
   "execution_count": 22,
   "id": "2750eb20",
   "metadata": {},
   "outputs": [],
   "source": [
    "sensor_data_dict_rennen_2 = {\n",
    "    \"Accelerometer\": rennen_accelerometer_df_2,\n",
    "    \"Gyroscope\": rennen_gyroscope_df_2,\n",
    "    \"Linear Accelerometer\": rennen_linear_accelerometer_df_2,\n",
    "    \"Magnetometer\": rennen_magnetometer_df_2,\n",
    "    \"Barometer\": rennen_barometer_df_2,\n",
    "    # Voeg hier eventueel meer toe zoals hartslag, licht, labels etc.\n",
    "}"
   ]
  },
  {
   "cell_type": "markdown",
   "id": "2d2629d4",
   "metadata": {},
   "source": [
    "Puck"
   ]
  },
  {
   "cell_type": "code",
   "execution_count": 10,
   "id": "1bc53566",
   "metadata": {},
   "outputs": [],
   "source": [
    "ren_accelerometer_df = pd.read_csv(r\"C:\\Users\\jdrij\\OneDrive\\Bureaublad\\Master\\ML_Github\\ML4QS-project\\data\\experiment_rennen_puck\\Accelerometer.csv\")\n",
    "ren_barometer_df = pd.read_csv(r\"C:\\Users\\jdrij\\OneDrive\\Bureaublad\\Master\\ML_Github\\ML4QS-project\\data\\experiment_rennen_puck\\Barometer.csv\")\n",
    "ren_gyroscope_df = pd.read_csv(r\"C:\\Users\\jdrij\\OneDrive\\Bureaublad\\Master\\ML_Github\\ML4QS-project\\data\\experiment_rennen_puck\\Gyroscope.csv\")\n",
    "ren_linear_accelerometer_df = pd.read_csv(r\"C:\\Users\\jdrij\\OneDrive\\Bureaublad\\Master\\ML_Github\\ML4QS-project\\data\\experiment_rennen_puck\\Linear Accelerometer.csv\")\n",
    "ren_location_df = pd.read_csv(r\"C:\\Users\\jdrij\\OneDrive\\Bureaublad\\Master\\ML_Github\\ML4QS-project\\data\\experiment_rennen_puck\\Location.csv\")\n",
    "ren_magnetometer_df = pd.read_csv(r\"C:\\Users\\jdrij\\OneDrive\\Bureaublad\\Master\\ML_Github\\ML4QS-project\\data\\experiment_rennen_puck\\Magnetometer.csv\")\n",
    "ren_proximity_df = pd.read_csv(r\"C:\\Users\\jdrij\\OneDrive\\Bureaublad\\Master\\ML_Github\\ML4QS-project\\data\\experiment_rennen_puck\\Proximity.csv\")"
   ]
  },
  {
   "cell_type": "code",
   "execution_count": 11,
   "id": "b493eff3",
   "metadata": {},
   "outputs": [],
   "source": [
    "sensor_data_dict_rennen = {\n",
    "    \"Accelerometer\": ren_accelerometer_df,\n",
    "    \"Gyroscope\": ren_gyroscope_df,\n",
    "    \"Linear Accelerometer\": ren_linear_accelerometer_df,\n",
    "    \"Magnetometer\": ren_magnetometer_df,\n",
    "    \"Barometer\": ren_barometer_df,\n",
    "    # Voeg hier eventueel meer toe zoals hartslag, licht, labels etc.\n",
    "}\n",
    "\n"
   ]
  },
  {
   "cell_type": "code",
   "execution_count": 12,
   "id": "534ce293",
   "metadata": {},
   "outputs": [],
   "source": [
    "fiets_accelerometer_df = pd.read_csv(r\"C:\\Users\\jdrij\\OneDrive\\Bureaublad\\Master\\ML_Github\\ML4QS-project\\data\\experiment_2_fietsen_puck\\Accelerometer.csv\")\n",
    "fiets_barometer_df = pd.read_csv(r\"C:\\Users\\jdrij\\OneDrive\\Bureaublad\\Master\\ML_Github\\ML4QS-project\\data\\experiment_2_fietsen_puck\\Barometer.csv\")\n",
    "fiets_gyroscope_df = pd.read_csv(r\"C:\\Users\\jdrij\\OneDrive\\Bureaublad\\Master\\ML_Github\\ML4QS-project\\data\\experiment_2_fietsen_puck\\Gyroscope.csv\")\n",
    "fiets_linear_accelerometer_df = pd.read_csv(r\"C:\\Users\\jdrij\\OneDrive\\Bureaublad\\Master\\ML_Github\\ML4QS-project\\data\\experiment_2_fietsen_puck\\Linear Accelerometer.csv\")\n",
    "fiets_location_df = pd.read_csv(r\"C:\\Users\\jdrij\\OneDrive\\Bureaublad\\Master\\ML_Github\\ML4QS-project\\data\\experiment_2_fietsen_puck\\Location.csv\")\n",
    "fiets_magnetometer_df = pd.read_csv(r\"C:\\Users\\jdrij\\OneDrive\\Bureaublad\\Master\\ML_Github\\ML4QS-project\\data\\experiment_2_fietsen_puck\\Magnetometer.csv\")\n",
    "fiets_proximity_df = pd.read_csv(r\"C:\\Users\\jdrij\\OneDrive\\Bureaublad\\Master\\ML_Github\\ML4QS-project\\data\\experiment_2_fietsen_puck\\Proximity.csv\")\n"
   ]
  },
  {
   "cell_type": "code",
   "execution_count": 13,
   "id": "d7999279",
   "metadata": {},
   "outputs": [],
   "source": [
    "sensor_data_dict_fietsen = {\n",
    "    \"Accelerometer\": fiets_accelerometer_df,\n",
    "    \"Gyroscope\": fiets_gyroscope_df,\n",
    "    \"Linear Accelerometer\": fiets_linear_accelerometer_df,\n",
    "    \"Magnetometer\": fiets_magnetometer_df,\n",
    "    \"Barometer\": fiets_barometer_df,\n",
    "    # Voeg hier eventueel meer toe zoals hartslag, licht, labels etc.\n",
    "}\n",
    "\n",
    "\n"
   ]
  },
  {
   "cell_type": "code",
   "execution_count": 14,
   "id": "1c07049c",
   "metadata": {},
   "outputs": [],
   "source": [
    "trein_accelerometer_df = pd.read_csv(r\"C:\\Users\\jdrij\\OneDrive\\Bureaublad\\Master\\ML_Github\\ML4QS-project\\data\\experiment_trein_puck\\Accelerometer.csv\")\n",
    "trein_barometer_df = pd.read_csv(r\"C:\\Users\\jdrij\\OneDrive\\Bureaublad\\Master\\ML_Github\\ML4QS-project\\data\\experiment_trein_puck\\Barometer.csv\")\n",
    "trein_gyroscope_df = pd.read_csv(r\"C:\\Users\\jdrij\\OneDrive\\Bureaublad\\Master\\ML_Github\\ML4QS-project\\data\\experiment_trein_puck\\Gyroscope.csv\")\n",
    "trein_linear_accelerometer_df = pd.read_csv(r\"C:\\Users\\jdrij\\OneDrive\\Bureaublad\\Master\\ML_Github\\ML4QS-project\\data\\experiment_trein_puck\\Linear Accelerometer.csv\")\n",
    "trein_location_df = pd.read_csv(r\"C:\\Users\\jdrij\\OneDrive\\Bureaublad\\Master\\ML_Github\\ML4QS-project\\data\\experiment_trein_puck\\Location.csv\")\n",
    "trein_magnetometer_df = pd.read_csv(r\"C:\\Users\\jdrij\\OneDrive\\Bureaublad\\Master\\ML_Github\\ML4QS-project\\data\\experiment_trein_puck\\Magnetometer.csv\")\n",
    "trein_proximity_df = pd.read_csv(r\"C:\\Users\\jdrij\\OneDrive\\Bureaublad\\Master\\ML_Github\\ML4QS-project\\data\\experiment_trein_puck\\Proximity.csv\")"
   ]
  },
  {
   "cell_type": "code",
   "execution_count": 15,
   "id": "cb110983",
   "metadata": {},
   "outputs": [],
   "source": [
    "sensor_data_dict_trein = {\n",
    "    \"Accelerometer\": trein_accelerometer_df,\n",
    "    \"Gyroscope\": trein_gyroscope_df,\n",
    "    \"Linear Accelerometer\": trein_linear_accelerometer_df,\n",
    "    \"Magnetometer\": trein_magnetometer_df,\n",
    "    \"Barometer\": trein_barometer_df,\n",
    "    # Voeg hier eventueel meer toe zoals hartslag, licht, labels etc.\n",
    "}"
   ]
  },
  {
   "cell_type": "code",
   "execution_count": null,
   "id": "8ce255dd",
   "metadata": {},
   "outputs": [],
   "source": []
  },
  {
   "cell_type": "code",
   "execution_count": null,
   "id": "58cf1f80",
   "metadata": {},
   "outputs": [],
   "source": []
  },
  {
   "cell_type": "code",
   "execution_count": null,
   "id": "d0c0975a",
   "metadata": {},
   "outputs": [],
   "source": []
  },
  {
   "cell_type": "code",
   "execution_count": null,
   "id": "6b8c6131",
   "metadata": {},
   "outputs": [],
   "source": []
  },
  {
   "cell_type": "markdown",
   "id": "e8b64b01",
   "metadata": {},
   "source": [
    "Sjoerd"
   ]
  },
  {
   "cell_type": "code",
   "execution_count": 16,
   "id": "509d1ed3",
   "metadata": {},
   "outputs": [],
   "source": [
    "trein_accelerometer_df_2 = pd.read_csv(r\"C:\\Users\\jdrij\\OneDrive\\Bureaublad\\Master\\ML_Github\\ML4QS-project\\data\\experiment_trein_sjoerd\\Accelerometer.csv\")\n",
    "trein_barometer_df_2 = pd.read_csv(r\"C:\\Users\\jdrij\\OneDrive\\Bureaublad\\Master\\ML_Github\\ML4QS-project\\data\\experiment_trein_sjoerd\\Barometer.csv\")\n",
    "trein_gyroscope_df_2 = pd.read_csv(r\"C:\\Users\\jdrij\\OneDrive\\Bureaublad\\Master\\ML_Github\\ML4QS-project\\data\\experiment_trein_sjoerd\\Gyroscope.csv\")\n",
    "trein_linear_accelerometer_df_2 = pd.read_csv(r\"C:\\Users\\jdrij\\OneDrive\\Bureaublad\\Master\\ML_Github\\ML4QS-project\\data\\experiment_trein_sjoerd\\Linear Accelerometer.csv\")\n",
    "trein_location_df_2 = pd.read_csv(r\"C:\\Users\\jdrij\\OneDrive\\Bureaublad\\Master\\ML_Github\\ML4QS-project\\data\\experiment_trein_sjoerd\\Location.csv\")\n",
    "trein_magnetometer_df_2 = pd.read_csv(r\"C:\\Users\\jdrij\\OneDrive\\Bureaublad\\Master\\ML_Github\\ML4QS-project\\data\\experiment_trein_sjoerd\\Magnetometer.csv\")\n",
    "trein_proximity_df_2 = pd.read_csv(r\"C:\\Users\\jdrij\\OneDrive\\Bureaublad\\Master\\ML_Github\\ML4QS-project\\data\\experiment_trein_sjoerd\\Proximity.csv\")\n"
   ]
  },
  {
   "cell_type": "code",
   "execution_count": 17,
   "id": "634e80bb",
   "metadata": {},
   "outputs": [],
   "source": [
    "sensor_data_dict_trein_2 = {\n",
    "    \"Accelerometer\": trein_accelerometer_df_2,\n",
    "    \"Gyroscope\": trein_gyroscope_df_2,\n",
    "    \"Linear Accelerometer\": trein_linear_accelerometer_df_2,\n",
    "    \"Magnetometer\": trein_magnetometer_df_2,\n",
    "    \"Barometer\": trein_barometer_df_2,\n",
    "    # Voeg hier eventueel meer sensoren toe indien beschikbaar\n",
    "}\n",
    "\n"
   ]
  },
  {
   "cell_type": "code",
   "execution_count": null,
   "id": "fed38d70",
   "metadata": {},
   "outputs": [],
   "source": [
    "# def create_summary_table(sensor_data_dict, mode_name):\n",
    "#     summaries = []\n",
    "#     for sensor_name, df in sensor_data_dict.items():\n",
    "#         desc = df.describe().T[['mean', 'std', 'min', 'max', 'count']]\n",
    "#         desc['sensor'] = sensor_name\n",
    "#         desc['feature'] = desc.index\n",
    "#         desc['mode'] = mode_name\n",
    "#         summaries.append(desc.reset_index(drop=True))\n",
    "    \n",
    "#     summary_df = pd.concat(summaries, ignore_index=True)\n",
    "#     summary_df = summary_df[['mode', 'sensor', 'feature', 'count', 'mean', 'std', 'min', 'max']]\n",
    "#     return summary_df\n",
    "\n",
    "# # Voorbeeld met meerdere modi\n",
    "# summary_fietsen = create_summary_table(sensor_data_dict_fietsen, \"Bike\")\n",
    "# summary_auto = create_summary_table(sensor_data_dict_auto, \"Car\")\n",
    "# summary_runnen = create_summary_table(sensor_data_dict_rennen, \"Running\")\n",
    "# summary_trein = create_summary_table(sensor_data_dict_trein, \"Train\")\n",
    "# summary_metro = create_summary_table(sensor_data_dict, \"Metro\")\n",
    "\n",
    "# # Alles combineren in één grote tabel\n",
    "# combined_summary = pd.concat([summary_fietsen, summary_auto, summary_metro, summary_trein, summary_runnen], ignore_index=True)\n",
    "\n",
    "# print(combined_summary.head())\n",
    "# combined_summary.to_csv(r\"C:\\Users\\jdrij\\OneDrive\\Bureaublad\\Master\\ML_Github\\ML4QS-project\\data\\summary_sensor_data.csv\", index=False)"
   ]
  },
  {
   "cell_type": "markdown",
   "id": "e2e34aa5",
   "metadata": {},
   "source": [
    "Kalman"
   ]
  },
  {
   "cell_type": "code",
   "execution_count": null,
   "id": "ef5d21f1",
   "metadata": {},
   "outputs": [],
   "source": [
    "# def apply_kalman_and_impute(df, columns, time_col=\"Time (s)\", threshold_std=3):\n",
    "#     result_df = df.copy()\n",
    "#     for col in columns:\n",
    "#         data = df[col].values\n",
    "#         # Kalman filter instellen\n",
    "#         kf = KalmanFilter(initial_state_mean=0, n_dim_obs=1)\n",
    "#         kf = kf.em(data, n_iter=5)\n",
    "#         filtered_state_means, _ = kf.filter(data)\n",
    "\n",
    "#         # Outlier detectie\n",
    "#         residuals = data - filtered_state_means.flatten()\n",
    "#         threshold = threshold_std * np.std(residuals)\n",
    "#         outliers = np.abs(residuals) > threshold\n",
    "\n",
    "#         # Imputatie\n",
    "#         result_df[col + \"_filtered\"] = filtered_state_means\n",
    "#         result_df[col + \"_imputed\"] = data.copy()\n",
    "#         result_df.loc[outliers, col + \"_imputed\"] = filtered_state_means.flatten()[outliers]\n",
    "\n",
    "#         # Plot (optioneel)\n",
    "#         plt.figure(figsize=(12, 4))\n",
    "#         plt.plot(df[time_col], data, label='Origineel', alpha=0.5)\n",
    "#         plt.plot(df[time_col], filtered_state_means, label='Kalman Filter', linewidth=2)\n",
    "#         plt.plot(df[time_col], result_df[col + \"_imputed\"], label='Imputed', linestyle='--')\n",
    "#         plt.scatter(df[time_col][outliers], data[outliers], color='red', label='Outliers', zorder=5)\n",
    "#         plt.title(f\"Kalman filtering & imputatie - {col}\")\n",
    "#         plt.legend()\n",
    "#         plt.xlabel(\"Tijd (s)\")\n",
    "#         plt.ylabel(col)\n",
    "#         plt.grid(False)\n",
    "#         plt.tight_layout()\n",
    "#         plt.show()\n",
    "\n",
    "#     return result_df"
   ]
  },
  {
   "cell_type": "markdown",
   "id": "803a2cc2",
   "metadata": {},
   "source": [
    "### Creëeren dataset"
   ]
  },
  {
   "cell_type": "code",
   "execution_count": null,
   "id": "1958a64f",
   "metadata": {},
   "outputs": [],
   "source": [
    "# trein_accelerometer_df.columns = [col.strip().strip('\"') for col in trein_accelerometer_df.columns]  # Schoon kolomnamen op\n",
    "\n",
    "# # Maak een nieuwe kolom 'second' als integer tijd\n",
    "# trein_accelerometer_df['second'] = trein_accelerometer_df['Time (s)'].astype(float).astype(int)\n",
    "\n",
    "# # Gemiddelde per seconde berekenen\n",
    "# df_avg = trein_accelerometer_df.groupby('second').mean().reset_index()\n",
    "\n",
    "# # Optioneel: hernoem 'second' terug naar 'Time (s)' als je dat prettiger vindt\n",
    "# df_avg = df_avg.rename(columns={'second': 'Time (s)'})"
   ]
  },
  {
   "cell_type": "code",
   "execution_count": 18,
   "id": "26c286aa",
   "metadata": {},
   "outputs": [],
   "source": [
    "from functools import reduce"
   ]
  },
  {
   "cell_type": "code",
   "execution_count": 19,
   "id": "4fcb0989",
   "metadata": {},
   "outputs": [],
   "source": [
    "def aggregate_sensor_data(sensor_data_dict):\n",
    "    aggregated_dfs = []\n",
    "\n",
    "    for name, df in sensor_data_dict.items():\n",
    "        # Kolomnamen opschonen\n",
    "        df.columns = [col.strip().strip('\"') for col in df.columns]\n",
    "\n",
    "        # Tijdkolom gebruiken\n",
    "        time_col = df.columns[0]\n",
    "        df['second'] = df[time_col].astype(float).astype(int)\n",
    "\n",
    "        # Gemiddelde per seconde\n",
    "        df_avg = df.groupby('second').mean().reset_index()\n",
    "\n",
    "        # Hernoemen van kolommen\n",
    "        df_avg = df_avg.rename(columns={col: f\"{name}_{col}\" for col in df_avg.columns if col != 'second'})\n",
    "        aggregated_dfs.append(df_avg)\n",
    "\n",
    "    # Merge alles op 'second'\n",
    "    final_df = reduce(lambda left, right: pd.merge(left, right, on='second', how='outer'), aggregated_dfs)\n",
    "\n",
    "    # Sorteren en opschonen\n",
    "    final_df = final_df.sort_values('second').reset_index(drop=True)\n",
    "    final_df = final_df.rename(columns={'second': 'Time (s)'})\n",
    "    columns_to_drop = [col for col in final_df.columns if 'Time' in col and col != 'Time (s)']\n",
    "    final_df = final_df.drop(columns=columns_to_drop)\n",
    "\n",
    "    return final_df"
   ]
  },
  {
   "cell_type": "code",
   "execution_count": 20,
   "id": "8e15af91",
   "metadata": {},
   "outputs": [],
   "source": [
    "# final_df_metro = aggregate_sensor_data(sensor_data_dict_metro)\n",
    "final_df_rennen = aggregate_sensor_data(sensor_data_dict_rennen)\n",
    "final_df_fietsen = aggregate_sensor_data(sensor_data_dict_fietsen)\n",
    "final_df_trein = aggregate_sensor_data(sensor_data_dict_trein)\n",
    "# final_df_auto = aggregate_sensor_data(sensor_data_dict_auto)"
   ]
  },
  {
   "cell_type": "code",
   "execution_count": 23,
   "id": "be6192e3",
   "metadata": {},
   "outputs": [],
   "source": [
    "final_df_fietsen_2 = aggregate_sensor_data(sensor_data_dict_fietsen_2)\n",
    "final_df_auto_2 = aggregate_sensor_data(sensor_data_dict_auto_2)\n",
    "final_df_rennen_2 = aggregate_sensor_data(sensor_data_dict_rennen_2)\n",
    "final_df_metro_2 = aggregate_sensor_data(sensor_data_dict_metro_2)\n",
    "final_df_trein_2 = aggregate_sensor_data(sensor_data_dict_trein_2)"
   ]
  },
  {
   "cell_type": "code",
   "execution_count": 24,
   "id": "aa471908",
   "metadata": {},
   "outputs": [],
   "source": [
    "# final_df_metro = final_df_metro[(final_df_metro['Time (s)'] > 10) & (final_df_metro['Time (s)'] < final_df_metro['Time (s)'].max() - 10)]\n",
    "final_df_rennen = final_df_rennen[(final_df_rennen['Time (s)'] > 10) & (final_df_rennen['Time (s)'] < final_df_rennen['Time (s)'].max() - 10)]\n",
    "final_df_fietsen = final_df_fietsen[(final_df_fietsen['Time (s)'] > 10) & (final_df_fietsen['Time (s)'] < final_df_fietsen['Time (s)'].max() - 10)]\n",
    "final_df_trein = final_df_trein[(final_df_trein['Time (s)'] > 10) & (final_df_trein['Time (s)'] < final_df_trein['Time (s)'].max() - 10)]\n",
    "# final_df_auto = final_df_auto[(final_df_auto['Time (s)'] > 10) & (final_df_auto['Time (s)'] < final_df_auto['Time (s)'].max() - 10)]"
   ]
  },
  {
   "cell_type": "code",
   "execution_count": 25,
   "id": "b13f4b9d",
   "metadata": {},
   "outputs": [],
   "source": [
    "final_df_fietsen_2 = final_df_fietsen_2[(final_df_fietsen_2['Time (s)'] > 10) & (final_df_fietsen_2['Time (s)'] < final_df_fietsen_2['Time (s)'].max() - 10)]\n",
    "final_df_auto_2 = final_df_auto_2[(final_df_auto_2['Time (s)'] > 10) & (final_df_auto_2['Time (s)'] < final_df_auto_2['Time (s)'].max() - 10)]\n",
    "final_df_rennen_2 = final_df_rennen_2[(final_df_rennen_2['Time (s)'] > 10) & (final_df_rennen_2['Time (s)'] < final_df_rennen_2['Time (s)'].max() - 10)]\n",
    "final_df_metro_2 = final_df_metro_2[(final_df_metro_2['Time (s)'] > 10) & (final_df_metro_2['Time (s)'] < final_df_metro_2['Time (s)'].max() - 10)]\n",
    "final_df_trein_2 = final_df_trein_2[(final_df_trein_2['Time (s)'] > 10) & (final_df_trein_2['Time (s)'] < final_df_trein_2['Time (s)'].max() - 10)]"
   ]
  },
  {
   "cell_type": "code",
   "execution_count": null,
   "id": "aab3769f",
   "metadata": {},
   "outputs": [],
   "source": [
    "final_df_rennen"
   ]
  },
  {
   "cell_type": "code",
   "execution_count": 26,
   "id": "33d459b7",
   "metadata": {},
   "outputs": [],
   "source": [
    "# final_df_metro['Barometer_X (hPa)'] = final_df_metro['Barometer_X (hPa)'].interpolate(method='linear')\n",
    "final_df_rennen['Barometer_X (hPa)'] = final_df_rennen['Barometer_X (hPa)'].interpolate(method='linear')\n",
    "final_df_fietsen['Barometer_X (hPa)'] = final_df_fietsen['Barometer_X (hPa)'].interpolate(method='linear')\n",
    "final_df_trein['Barometer_X (hPa)'] = final_df_trein['Barometer_X (hPa)'].interpolate(method='linear')\n",
    "# final_df_auto['Barometer_X (hPa)'] = final_df_auto['Barometer_X (hPa)'].interpolate(method='linear')"
   ]
  },
  {
   "cell_type": "code",
   "execution_count": 27,
   "id": "8617e436",
   "metadata": {},
   "outputs": [],
   "source": [
    "final_df_fietsen_2['Barometer_X (hPa)'] = final_df_fietsen_2['Barometer_X (hPa)'].interpolate(method='linear')\n",
    "final_df_auto_2['Barometer_X (hPa)'] = final_df_auto_2['Barometer_X (hPa)'].interpolate(method='linear')\n",
    "final_df_rennen_2['Barometer_X (hPa)'] = final_df_rennen_2['Barometer_X (hPa)'].interpolate(method='linear')\n",
    "final_df_metro_2['Barometer_X (hPa)'] = final_df_metro_2['Barometer_X (hPa)'].interpolate(method='linear')\n",
    "final_df_trein_2['Barometer_X (hPa)'] = final_df_trein_2['Barometer_X (hPa)'].interpolate(method='linear')"
   ]
  },
  {
   "cell_type": "code",
   "execution_count": null,
   "id": "932826ab",
   "metadata": {},
   "outputs": [],
   "source": [
    "final_df_metro.isna().sum()"
   ]
  },
  {
   "cell_type": "code",
   "execution_count": null,
   "id": "61b11427",
   "metadata": {},
   "outputs": [],
   "source": [
    "final_df_metro.to_csv(r\"C:\\Users\\jdrij\\OneDrive\\Bureaublad\\Master\\ML_Github\\ML4QS-project\\final_datasets\\aggregated_metro.csv\", index=False)\n",
    "final_df_rennen.to_csv(r\"C:\\Users\\jdrij\\OneDrive\\Bureaublad\\Master\\ML_Github\\ML4QS-project\\final_datasets\\aggregated_rennen.csv\", index=False)\n",
    "final_df_fietsen.to_csv(r\"C:\\Users\\jdrij\\OneDrive\\Bureaublad\\Master\\ML_Github\\ML4QS-project\\final_datasets\\aggregated_fietsen.csv\", index=False)\n",
    "final_df_trein.to_csv(r\"C:\\Users\\jdrij\\OneDrive\\Bureaublad\\Master\\ML_Github\\ML4QS-project\\final_datasets\\aggregated_trein.csv\", index=False)\n",
    "final_df_auto.to_csv(r\"C:\\Users\\jdrij\\OneDrive\\Bureaublad\\Master\\ML_Github\\ML4QS-project\\final_datasets\\aggregated_auto.csv\", index=False)"
   ]
  },
  {
   "cell_type": "code",
   "execution_count": null,
   "id": "eadf09c3",
   "metadata": {},
   "outputs": [],
   "source": [
    "final_df_metro = pd.read_csv(r\"C:\\Users\\jdrij\\OneDrive\\Bureaublad\\Master\\ML_Github\\ML4QS-project\\puck_datasets\\experiment_metro_joris.csv\")\n",
    "final_df_rennen = pd.read_csv(r\"C:\\Users\\jdrij\\OneDrive\\Bureaublad\\Master\\ML_Github\\ML4QS-project\\puck_datasets\\experiment_rennen_puck.csv\")\n",
    "final_df_fietsen = pd.read_csv(r\"C:\\Users\\jdrij\\OneDrive\\Bureaublad\\Master\\ML_Github\\ML4QS-project\\puck_datasets\\experiment_fietsen_puck.csv\")\n",
    "final_df_trein = pd.read_csv(r\"C:\\Users\\jdrij\\OneDrive\\Bureaublad\\Master\\ML_Github\\ML4QS-project\\puck_datasets\\experiment_trein_sjoerd.csv\")\n",
    "final_df_auto = pd.read_csv(r\"C:\\Users\\jdrij\\OneDrive\\Bureaublad\\Master\\ML_Github\\ML4QS-project\\puck_datasets\\experiment_auto_joris.csv\")"
   ]
  },
  {
   "cell_type": "code",
   "execution_count": null,
   "id": "77d5b00d",
   "metadata": {},
   "outputs": [],
   "source": [
    "final_df_metro"
   ]
  },
  {
   "cell_type": "markdown",
   "id": "119ba83b",
   "metadata": {},
   "source": [
    "## Lagged features"
   ]
  },
  {
   "cell_type": "code",
   "execution_count": 28,
   "id": "f708d39b",
   "metadata": {},
   "outputs": [],
   "source": [
    "def add_lagged_features(df, lags=[1, 3, 10]):\n",
    "    \"\"\"\n",
    "    Voeg lagged statistical features toe:\n",
    "    - std voor lags > 1\n",
    "    - mean voor niet-gyroscoop features\n",
    "    - sum voor gyroscoop features\n",
    "    Kolomnamen met eenheden worden gestandaardiseerd.\n",
    "    \"\"\"\n",
    "    rename_map = {\n",
    "        \"Accelerometer_X (m/s^2)_kalman\": \"Accelerometer_X\",\n",
    "        \"Accelerometer_Y (m/s^2)_kalman\": \"Accelerometer_Y\",\n",
    "        \"Accelerometer_Z (m/s^2)_kalman\": \"Accelerometer_Z\",\n",
    "        \"Gyroscope_X (rad/s)_kalman\": \"Gyroscope_X\",\n",
    "        \"Gyroscope_Y (rad/s)_kalman\": \"Gyroscope_Y\",\n",
    "        \"Gyroscope_Z (rad/s)_kalman\": \"Gyroscope_Z\",\n",
    "        \"Linear Accelerometer_X (m/s^2)_kalman\": \"Linear_Accelerometer_X\",\n",
    "        \"Linear Accelerometer_Y (m/s^2)_kalman\": \"Linear_Accelerometer_Y\",\n",
    "        \"Linear Accelerometer_Z (m/s^2)_kalman\": \"Linear_Accelerometer_Z\",\n",
    "        \"Magnetometer_X (µT)_kalman\": \"Magnetometer_X\",\n",
    "        \"Magnetometer_Y (µT)_kalman\": \"Magnetometer_Y\",\n",
    "        \"Magnetometer_Z (µT)_kalman\": \"Magnetometer_Z\",\n",
    "        \"Barometer_X (hPa)_kalman\": \"Barometer_X\",\n",
    "        \"Time (s)\": \"Time\"\n",
    "    }\n",
    "\n",
    "\n",
    "    # Kolomnamen opschonen en hernoemen\n",
    "    df.columns = df.columns.str.strip()\n",
    "    df = df.rename(columns=rename_map)\n",
    "\n",
    "    gyroscope_cols = [\"Gyroscope_X\", \"Gyroscope_Y\", \"Gyroscope_Z\"]\n",
    "    all_feature_cols = [col for col in rename_map.values() if not col.startswith('Time')]\n",
    "    non_gyro_cols = [col for col in all_feature_cols if col not in gyroscope_cols]\n",
    "\n",
    "    for col in all_feature_cols:\n",
    "        if col not in df.columns:\n",
    "            print(f\"⚠️ Kolom '{col}' ontbreekt in DataFrame. Sla over.\")\n",
    "            continue\n",
    "\n",
    "        for lag in lags:\n",
    "            # Alleen std voor lag > 1\n",
    "            if lag > 1:\n",
    "                df[f\"{col}_std_{lag}\"] = df[col].rolling(window=lag).std()\n",
    "\n",
    "            if col in non_gyro_cols:\n",
    "                df[f\"{col}_mean_{lag}\"] = df[col].rolling(window=lag).mean()\n",
    "\n",
    "            if col in gyroscope_cols:\n",
    "                df[f\"{col}_sum_{lag}\"] = df[col].rolling(window=lag).sum()\n",
    "\n",
    "    #df.dropna(inplace=True)\n",
    "    return df"
   ]
  },
  {
   "cell_type": "code",
   "execution_count": 29,
   "id": "2a7e2c95",
   "metadata": {},
   "outputs": [],
   "source": [
    "def add_lagged_features_2(df, lags=[1, 3, 10]):\n",
    "    \"\"\"\n",
    "    Voeg lagged statistical features toe:\n",
    "    - std voor lags > 1\n",
    "    - mean voor niet-gyroscoop features\n",
    "    - sum voor gyroscoop features\n",
    "    Kolomnamen met eenheden worden gestandaardiseerd.\n",
    "    \"\"\"\n",
    "    rename_map = {\n",
    "        \"Accelerometer_X (m/s^2)\": \"Accelerometer_X\",\n",
    "        \"Accelerometer_Y (m/s^2)\": \"Accelerometer_Y\",\n",
    "        \"Accelerometer_Z (m/s^2)\": \"Accelerometer_Z\",\n",
    "        \"Gyroscope_X (rad/s)\": \"Gyroscope_X\",\n",
    "        \"Gyroscope_Y (rad/s)\": \"Gyroscope_Y\",\n",
    "        \"Gyroscope_Z (rad/s)\": \"Gyroscope_Z\",\n",
    "        \"Linear Accelerometer_X (m/s^2)\": \"Linear Accelerometer_X\",\n",
    "        \"Linear Accelerometer_Y (m/s^2)\": \"Linear Accelerometer_Y\",\n",
    "        \"Linear Accelerometer_Z (m/s^2)\": \"Linear Accelerometer_Z\",\n",
    "        \"Magnetometer_X (µT)\": \"Magnetometer_X\",\n",
    "        \"Magnetometer_Y (µT)\": \"Magnetometer_Y\",\n",
    "        \"Magnetometer_Z (µT)\": \"Magnetometer_Z\",\n",
    "        \"Barometer_X (hPa)\": \"Barometer_X\"\n",
    "    }\n",
    "\n",
    "    # Kolomnamen opschonen en hernoemen\n",
    "    df.columns = df.columns.str.strip()\n",
    "    df = df.rename(columns=rename_map)\n",
    "\n",
    "    gyroscope_cols = [\"Gyroscope_X\", \"Gyroscope_Y\", \"Gyroscope_Z\"]\n",
    "    all_feature_cols = [col for col in rename_map.values() if not col.startswith('Time')]\n",
    "    non_gyro_cols = [col for col in all_feature_cols if col not in gyroscope_cols]\n",
    "\n",
    "    for col in all_feature_cols:\n",
    "        if col not in df.columns:\n",
    "            print(f\"⚠️ Kolom '{col}' ontbreekt in DataFrame. Sla over.\")\n",
    "            continue\n",
    "\n",
    "        for lag in lags:\n",
    "            # Alleen std voor lag > 1\n",
    "            if lag > 1:\n",
    "                df[f\"{col}_std_{lag}\"] = df[col].rolling(window=lag).std()\n",
    "\n",
    "            if col in non_gyro_cols:\n",
    "                df[f\"{col}_mean_{lag}\"] = df[col].rolling(window=lag).mean()\n",
    "\n",
    "            if col in gyroscope_cols:\n",
    "                df[f\"{col}_sum_{lag}\"] = df[col].rolling(window=lag).sum()\n",
    "\n",
    "    #df.dropna(inplace=True)\n",
    "    return df\n"
   ]
  },
  {
   "cell_type": "code",
   "execution_count": 31,
   "id": "1340ae96",
   "metadata": {},
   "outputs": [],
   "source": [
    "# metro = add_lagged_features(final_df_metro).iloc[9:]\n",
    "rennen = add_lagged_features_2(final_df_rennen).iloc[9:]\n",
    "fietsen = add_lagged_features_2(final_df_fietsen).iloc[9:]\n",
    "trein = add_lagged_features_2(final_df_trein).iloc[9:]\n",
    "# auto = add_lagged_features(final_df_auto).iloc[9:]"
   ]
  },
  {
   "cell_type": "code",
   "execution_count": 32,
   "id": "f5cef510",
   "metadata": {},
   "outputs": [],
   "source": [
    "fietsen2 = add_lagged_features_2(final_df_fietsen_2).iloc[9:]\n",
    "auto2 = add_lagged_features_2(final_df_auto_2).iloc[9:]\n",
    "rennen2 = add_lagged_features_2(final_df_rennen_2).iloc[9:]\n",
    "metro2 = add_lagged_features_2(final_df_metro_2).iloc[9:]\n",
    "trein2 = add_lagged_features_2(final_df_trein_2).iloc[9:]"
   ]
  },
  {
   "cell_type": "code",
   "execution_count": 33,
   "id": "14b8368b",
   "metadata": {},
   "outputs": [
    {
     "data": {
      "text/plain": [
       "Series([], dtype: int64)"
      ]
     },
     "execution_count": 33,
     "metadata": {},
     "output_type": "execute_result"
    }
   ],
   "source": [
    "missing1 = rennen.isnull().sum()\n",
    "missing1 = missing1[missing1 > 0]  # Alleen kolommen met > 0 NaNs\n",
    "missing1"
   ]
  },
  {
   "cell_type": "markdown",
   "id": "b4c71f0b",
   "metadata": {},
   "source": [
    "### XGBoost"
   ]
  },
  {
   "cell_type": "code",
   "execution_count": 34,
   "id": "77e281bf",
   "metadata": {},
   "outputs": [],
   "source": [
    "# metro['transport_mode'] = 'metro'\n",
    "rennen['transport_mode'] = 'rennen'\n",
    "fietsen['transport_mode'] = 'fietsen'\n",
    "trein['transport_mode'] = 'trein'\n",
    "# auto['transport_mode'] = 'auto'"
   ]
  },
  {
   "cell_type": "code",
   "execution_count": 35,
   "id": "ab90cb66",
   "metadata": {},
   "outputs": [],
   "source": [
    "fietsen2['transport_mode'] = 'fietsen'\n",
    "auto2['transport_mode'] = 'auto'\n",
    "rennen2['transport_mode'] = 'rennen'\n",
    "metro2['transport_mode'] = 'metro'\n",
    "trein2['transport_mode'] = 'trein'"
   ]
  },
  {
   "cell_type": "code",
   "execution_count": 56,
   "id": "4f8ed5f3",
   "metadata": {},
   "outputs": [],
   "source": [
    "# train_metro = metro.copy()\n",
    "train_rennen = rennen.copy()\n",
    "train_fietsen = fietsen.copy()\n",
    "train_trein = trein.copy()\n",
    "# train_auto = auto.copy()"
   ]
  },
  {
   "cell_type": "code",
   "execution_count": 57,
   "id": "56c4174c",
   "metadata": {},
   "outputs": [
    {
     "name": "stdout",
     "output_type": "stream",
     "text": [
      "Max Time (s) values for each DataFrame:\n",
      "train_rennen: 1283\n",
      "train_fietsen: 795\n",
      "train_trein: 972\n"
     ]
    }
   ],
   "source": [
    "print(\"Max Time (s) values for each DataFrame:\")\n",
    "print(\"train_rennen:\", train_rennen[\"Time (s)\"].max())\n",
    "print(\"train_fietsen:\", train_fietsen[\"Time (s)\"].max())\n",
    "print(\"train_trein:\", train_trein[\"Time (s)\"].max())\n",
    "# print(\"train_auto:\", train_auto[\"Time (s)\"].max())\n",
    "# print(\"train_metro:\", train_metro[\"Time (s)\"].max())"
   ]
  },
  {
   "cell_type": "code",
   "execution_count": 58,
   "id": "76788a1d",
   "metadata": {},
   "outputs": [],
   "source": [
    "test_fietsen2 = fietsen2.copy()\n",
    "test_auto2 = auto2.copy()\n",
    "test_rennen2 = rennen2.copy()\n",
    "test_metro2 = metro2.copy()\n",
    "test_trein2 = trein2.copy()"
   ]
  },
  {
   "cell_type": "code",
   "execution_count": 59,
   "id": "923a0850",
   "metadata": {},
   "outputs": [
    {
     "name": "stdout",
     "output_type": "stream",
     "text": [
      "Max Time (s) values for each DataFrame:\n",
      "test_fietsen2: 502\n",
      "test_auto2: 1018\n",
      "test_rennen2: 949\n",
      "test_metro2: 806\n",
      "test_trein2: 805\n"
     ]
    }
   ],
   "source": [
    "print(\"Max Time (s) values for each DataFrame:\")\n",
    "print(\"test_fietsen2:\", test_fietsen2[\"Time (s)\"].max())\n",
    "print(\"test_auto2:\", test_auto2[\"Time (s)\"].max())\n",
    "print(\"test_rennen2:\", test_rennen2[\"Time (s)\"].max())\n",
    "print(\"test_metro2:\", test_metro2[\"Time (s)\"].max())\n",
    "print(\"test_trein2:\", test_trein2[\"Time (s)\"].max())"
   ]
  },
  {
   "cell_type": "code",
   "execution_count": null,
   "id": "9af20f9b",
   "metadata": {},
   "outputs": [],
   "source": [
    "# train_metro = train_metro.loc[:, ~train_metro.columns.str.startswith('Accelerometer')]\n",
    "# train_rennen = train_rennen.loc[:, ~train_rennen.columns.str.startswith('Accelerometer')]\n",
    "# train_fietsen = train_fietsen.loc[:, ~train_fietsen.columns.str.startswith('Accelerometer')]\n",
    "# train_trein = train_trein.loc[:, ~train_trein.columns.str.startswith('Accelerometer')]\n",
    "# train_auto = train_auto.loc[:, ~train_auto.columns.str.startswith('Accelerometer')]"
   ]
  },
  {
   "cell_type": "code",
   "execution_count": null,
   "id": "da7a4730",
   "metadata": {},
   "outputs": [],
   "source": [
    "# test_fietsen2 = test_fietsen2.loc[:, ~test_fietsen2.columns.str.startswith('Accelerometer')]"
   ]
  },
  {
   "cell_type": "code",
   "execution_count": 38,
   "id": "0c8e459f",
   "metadata": {},
   "outputs": [],
   "source": [
    "train_df_all = pd.concat([train_rennen, train_fietsen, train_trein], ignore_index=True)"
   ]
  },
  {
   "cell_type": "code",
   "execution_count": 39,
   "id": "9ae88585",
   "metadata": {},
   "outputs": [],
   "source": [
    "test_df = pd.concat([test_rennen2, test_fietsen2, test_trein2], ignore_index=True)"
   ]
  },
  {
   "cell_type": "code",
   "execution_count": 40,
   "id": "39149a33",
   "metadata": {},
   "outputs": [
    {
     "name": "stdout",
     "output_type": "stream",
     "text": [
      "Kolommen die alleen in train_df_all staan: set()\n",
      "Kolommen die alleen in test_df staan: set()\n"
     ]
    }
   ],
   "source": [
    "train_columns = set(train_df_all.columns)\n",
    "test_columns = set(test_df.columns)\n",
    "\n",
    "# Verschillen vinden\n",
    "only_in_train = train_columns - test_columns\n",
    "only_in_test = test_columns - train_columns\n",
    "\n",
    "print(\"Kolommen die alleen in train_df_all staan:\", only_in_train)\n",
    "print(\"Kolommen die alleen in test_df staan:\", only_in_test)"
   ]
  },
  {
   "cell_type": "code",
   "execution_count": null,
   "id": "3e79863e",
   "metadata": {},
   "outputs": [],
   "source": [
    "test_df.columns = test_df.columns.str.replace(' ', '_')"
   ]
  },
  {
   "cell_type": "code",
   "execution_count": null,
   "id": "217e299c",
   "metadata": {},
   "outputs": [],
   "source": [
    "original_df = train_df_all.copy()\n",
    "original_test = test_df.copy()"
   ]
  },
  {
   "cell_type": "code",
   "execution_count": null,
   "id": "96372279",
   "metadata": {},
   "outputs": [],
   "source": [
    "train_df_all = original_df[original_df.columns[:11].tolist() + ['transport_mode']]\n",
    "test_df = original_test[original_test.columns[:11].tolist() + ['transport_mode']]"
   ]
  },
  {
   "cell_type": "code",
   "execution_count": null,
   "id": "c9deb630",
   "metadata": {},
   "outputs": [],
   "source": [
    "train_df_all.shape"
   ]
  },
  {
   "cell_type": "code",
   "execution_count": null,
   "id": "a38f05a2",
   "metadata": {},
   "outputs": [],
   "source": [
    "train_df_all.columns"
   ]
  },
  {
   "cell_type": "markdown",
   "id": "3c736fae",
   "metadata": {},
   "source": []
  },
  {
   "cell_type": "code",
   "execution_count": null,
   "id": "500519ac",
   "metadata": {},
   "outputs": [],
   "source": [
    "new_rows = []\n",
    "for transport_mode in ['metro', 'trein', 'rennen']:\n",
    "    # Create a row where 'transport_mode' is set and all other columns are 0.0\n",
    "    row = {col: 0.0 for col in test_df.columns if col != 'transport_mode'}\n",
    "    row['transport_mode'] = transport_mode\n",
    "    new_rows.append(row)\n",
    "\n",
    "# Convert to a DataFrame\n",
    "new_rows_df = pd.DataFrame(new_rows)\n",
    "\n",
    "# Concatenate the new rows to the existing test_df\n",
    "test_df = pd.concat([test_df, new_rows_df], ignore_index=True)"
   ]
  },
  {
   "cell_type": "code",
   "execution_count": 44,
   "id": "0b7d1af1",
   "metadata": {},
   "outputs": [
    {
     "name": "stdout",
     "output_type": "stream",
     "text": [
      "Label to integer mapping: {'fietsen': 0, 'rennen': 1, 'trein': 2}\n"
     ]
    }
   ],
   "source": [
    "from xgboost import XGBClassifier\n",
    "from sklearn.preprocessing import LabelEncoder\n",
    "from sklearn.metrics import classification_report\n",
    "\n",
    "# Features en labels splitsen\n",
    "X_train = train_df_all.drop(columns=['transport_mode', 'Time (s)'])  # drop Time en label\n",
    "y_train = train_df_all['transport_mode']\n",
    "\n",
    "X_test = test_df.drop(columns=['transport_mode', 'Time (s)'])\n",
    "y_test = test_df['transport_mode']\n",
    "\n",
    "# Encode labels (strings → integers)\n",
    "le = LabelEncoder()\n",
    "y_train_enc = le.fit_transform(y_train)\n",
    "y_test_enc = le.transform(y_test)\n",
    "\n",
    "label_mapping = dict(zip(le.classes_, range(len(le.classes_))))\n",
    "print(\"Label to integer mapping:\", label_mapping)\n"
   ]
  },
  {
   "cell_type": "code",
   "execution_count": 45,
   "id": "5a80ee7e",
   "metadata": {},
   "outputs": [
    {
     "name": "stderr",
     "output_type": "stream",
     "text": [
      "c:\\Users\\jdrij\\anaconda3\\envs\\condaenv\\lib\\site-packages\\xgboost\\training.py:183: UserWarning: [14:29:15] WARNING: C:\\actions-runner\\_work\\xgboost\\xgboost\\src\\learner.cc:738: \n",
      "Parameters: { \"use_label_encoder\" } are not used.\n",
      "\n",
      "  bst.update(dtrain, iteration=i, fobj=obj)\n"
     ]
    },
    {
     "data": {
      "text/html": [
       "<style>#sk-container-id-1 {\n",
       "  /* Definition of color scheme common for light and dark mode */\n",
       "  --sklearn-color-text: #000;\n",
       "  --sklearn-color-text-muted: #666;\n",
       "  --sklearn-color-line: gray;\n",
       "  /* Definition of color scheme for unfitted estimators */\n",
       "  --sklearn-color-unfitted-level-0: #fff5e6;\n",
       "  --sklearn-color-unfitted-level-1: #f6e4d2;\n",
       "  --sklearn-color-unfitted-level-2: #ffe0b3;\n",
       "  --sklearn-color-unfitted-level-3: chocolate;\n",
       "  /* Definition of color scheme for fitted estimators */\n",
       "  --sklearn-color-fitted-level-0: #f0f8ff;\n",
       "  --sklearn-color-fitted-level-1: #d4ebff;\n",
       "  --sklearn-color-fitted-level-2: #b3dbfd;\n",
       "  --sklearn-color-fitted-level-3: cornflowerblue;\n",
       "\n",
       "  /* Specific color for light theme */\n",
       "  --sklearn-color-text-on-default-background: var(--sg-text-color, var(--theme-code-foreground, var(--jp-content-font-color1, black)));\n",
       "  --sklearn-color-background: var(--sg-background-color, var(--theme-background, var(--jp-layout-color0, white)));\n",
       "  --sklearn-color-border-box: var(--sg-text-color, var(--theme-code-foreground, var(--jp-content-font-color1, black)));\n",
       "  --sklearn-color-icon: #696969;\n",
       "\n",
       "  @media (prefers-color-scheme: dark) {\n",
       "    /* Redefinition of color scheme for dark theme */\n",
       "    --sklearn-color-text-on-default-background: var(--sg-text-color, var(--theme-code-foreground, var(--jp-content-font-color1, white)));\n",
       "    --sklearn-color-background: var(--sg-background-color, var(--theme-background, var(--jp-layout-color0, #111)));\n",
       "    --sklearn-color-border-box: var(--sg-text-color, var(--theme-code-foreground, var(--jp-content-font-color1, white)));\n",
       "    --sklearn-color-icon: #878787;\n",
       "  }\n",
       "}\n",
       "\n",
       "#sk-container-id-1 {\n",
       "  color: var(--sklearn-color-text);\n",
       "}\n",
       "\n",
       "#sk-container-id-1 pre {\n",
       "  padding: 0;\n",
       "}\n",
       "\n",
       "#sk-container-id-1 input.sk-hidden--visually {\n",
       "  border: 0;\n",
       "  clip: rect(1px 1px 1px 1px);\n",
       "  clip: rect(1px, 1px, 1px, 1px);\n",
       "  height: 1px;\n",
       "  margin: -1px;\n",
       "  overflow: hidden;\n",
       "  padding: 0;\n",
       "  position: absolute;\n",
       "  width: 1px;\n",
       "}\n",
       "\n",
       "#sk-container-id-1 div.sk-dashed-wrapped {\n",
       "  border: 1px dashed var(--sklearn-color-line);\n",
       "  margin: 0 0.4em 0.5em 0.4em;\n",
       "  box-sizing: border-box;\n",
       "  padding-bottom: 0.4em;\n",
       "  background-color: var(--sklearn-color-background);\n",
       "}\n",
       "\n",
       "#sk-container-id-1 div.sk-container {\n",
       "  /* jupyter's `normalize.less` sets `[hidden] { display: none; }`\n",
       "     but bootstrap.min.css set `[hidden] { display: none !important; }`\n",
       "     so we also need the `!important` here to be able to override the\n",
       "     default hidden behavior on the sphinx rendered scikit-learn.org.\n",
       "     See: https://github.com/scikit-learn/scikit-learn/issues/21755 */\n",
       "  display: inline-block !important;\n",
       "  position: relative;\n",
       "}\n",
       "\n",
       "#sk-container-id-1 div.sk-text-repr-fallback {\n",
       "  display: none;\n",
       "}\n",
       "\n",
       "div.sk-parallel-item,\n",
       "div.sk-serial,\n",
       "div.sk-item {\n",
       "  /* draw centered vertical line to link estimators */\n",
       "  background-image: linear-gradient(var(--sklearn-color-text-on-default-background), var(--sklearn-color-text-on-default-background));\n",
       "  background-size: 2px 100%;\n",
       "  background-repeat: no-repeat;\n",
       "  background-position: center center;\n",
       "}\n",
       "\n",
       "/* Parallel-specific style estimator block */\n",
       "\n",
       "#sk-container-id-1 div.sk-parallel-item::after {\n",
       "  content: \"\";\n",
       "  width: 100%;\n",
       "  border-bottom: 2px solid var(--sklearn-color-text-on-default-background);\n",
       "  flex-grow: 1;\n",
       "}\n",
       "\n",
       "#sk-container-id-1 div.sk-parallel {\n",
       "  display: flex;\n",
       "  align-items: stretch;\n",
       "  justify-content: center;\n",
       "  background-color: var(--sklearn-color-background);\n",
       "  position: relative;\n",
       "}\n",
       "\n",
       "#sk-container-id-1 div.sk-parallel-item {\n",
       "  display: flex;\n",
       "  flex-direction: column;\n",
       "}\n",
       "\n",
       "#sk-container-id-1 div.sk-parallel-item:first-child::after {\n",
       "  align-self: flex-end;\n",
       "  width: 50%;\n",
       "}\n",
       "\n",
       "#sk-container-id-1 div.sk-parallel-item:last-child::after {\n",
       "  align-self: flex-start;\n",
       "  width: 50%;\n",
       "}\n",
       "\n",
       "#sk-container-id-1 div.sk-parallel-item:only-child::after {\n",
       "  width: 0;\n",
       "}\n",
       "\n",
       "/* Serial-specific style estimator block */\n",
       "\n",
       "#sk-container-id-1 div.sk-serial {\n",
       "  display: flex;\n",
       "  flex-direction: column;\n",
       "  align-items: center;\n",
       "  background-color: var(--sklearn-color-background);\n",
       "  padding-right: 1em;\n",
       "  padding-left: 1em;\n",
       "}\n",
       "\n",
       "\n",
       "/* Toggleable style: style used for estimator/Pipeline/ColumnTransformer box that is\n",
       "clickable and can be expanded/collapsed.\n",
       "- Pipeline and ColumnTransformer use this feature and define the default style\n",
       "- Estimators will overwrite some part of the style using the `sk-estimator` class\n",
       "*/\n",
       "\n",
       "/* Pipeline and ColumnTransformer style (default) */\n",
       "\n",
       "#sk-container-id-1 div.sk-toggleable {\n",
       "  /* Default theme specific background. It is overwritten whether we have a\n",
       "  specific estimator or a Pipeline/ColumnTransformer */\n",
       "  background-color: var(--sklearn-color-background);\n",
       "}\n",
       "\n",
       "/* Toggleable label */\n",
       "#sk-container-id-1 label.sk-toggleable__label {\n",
       "  cursor: pointer;\n",
       "  display: flex;\n",
       "  width: 100%;\n",
       "  margin-bottom: 0;\n",
       "  padding: 0.5em;\n",
       "  box-sizing: border-box;\n",
       "  text-align: center;\n",
       "  align-items: start;\n",
       "  justify-content: space-between;\n",
       "  gap: 0.5em;\n",
       "}\n",
       "\n",
       "#sk-container-id-1 label.sk-toggleable__label .caption {\n",
       "  font-size: 0.6rem;\n",
       "  font-weight: lighter;\n",
       "  color: var(--sklearn-color-text-muted);\n",
       "}\n",
       "\n",
       "#sk-container-id-1 label.sk-toggleable__label-arrow:before {\n",
       "  /* Arrow on the left of the label */\n",
       "  content: \"▸\";\n",
       "  float: left;\n",
       "  margin-right: 0.25em;\n",
       "  color: var(--sklearn-color-icon);\n",
       "}\n",
       "\n",
       "#sk-container-id-1 label.sk-toggleable__label-arrow:hover:before {\n",
       "  color: var(--sklearn-color-text);\n",
       "}\n",
       "\n",
       "/* Toggleable content - dropdown */\n",
       "\n",
       "#sk-container-id-1 div.sk-toggleable__content {\n",
       "  max-height: 0;\n",
       "  max-width: 0;\n",
       "  overflow: hidden;\n",
       "  text-align: left;\n",
       "  /* unfitted */\n",
       "  background-color: var(--sklearn-color-unfitted-level-0);\n",
       "}\n",
       "\n",
       "#sk-container-id-1 div.sk-toggleable__content.fitted {\n",
       "  /* fitted */\n",
       "  background-color: var(--sklearn-color-fitted-level-0);\n",
       "}\n",
       "\n",
       "#sk-container-id-1 div.sk-toggleable__content pre {\n",
       "  margin: 0.2em;\n",
       "  border-radius: 0.25em;\n",
       "  color: var(--sklearn-color-text);\n",
       "  /* unfitted */\n",
       "  background-color: var(--sklearn-color-unfitted-level-0);\n",
       "}\n",
       "\n",
       "#sk-container-id-1 div.sk-toggleable__content.fitted pre {\n",
       "  /* unfitted */\n",
       "  background-color: var(--sklearn-color-fitted-level-0);\n",
       "}\n",
       "\n",
       "#sk-container-id-1 input.sk-toggleable__control:checked~div.sk-toggleable__content {\n",
       "  /* Expand drop-down */\n",
       "  max-height: 200px;\n",
       "  max-width: 100%;\n",
       "  overflow: auto;\n",
       "}\n",
       "\n",
       "#sk-container-id-1 input.sk-toggleable__control:checked~label.sk-toggleable__label-arrow:before {\n",
       "  content: \"▾\";\n",
       "}\n",
       "\n",
       "/* Pipeline/ColumnTransformer-specific style */\n",
       "\n",
       "#sk-container-id-1 div.sk-label input.sk-toggleable__control:checked~label.sk-toggleable__label {\n",
       "  color: var(--sklearn-color-text);\n",
       "  background-color: var(--sklearn-color-unfitted-level-2);\n",
       "}\n",
       "\n",
       "#sk-container-id-1 div.sk-label.fitted input.sk-toggleable__control:checked~label.sk-toggleable__label {\n",
       "  background-color: var(--sklearn-color-fitted-level-2);\n",
       "}\n",
       "\n",
       "/* Estimator-specific style */\n",
       "\n",
       "/* Colorize estimator box */\n",
       "#sk-container-id-1 div.sk-estimator input.sk-toggleable__control:checked~label.sk-toggleable__label {\n",
       "  /* unfitted */\n",
       "  background-color: var(--sklearn-color-unfitted-level-2);\n",
       "}\n",
       "\n",
       "#sk-container-id-1 div.sk-estimator.fitted input.sk-toggleable__control:checked~label.sk-toggleable__label {\n",
       "  /* fitted */\n",
       "  background-color: var(--sklearn-color-fitted-level-2);\n",
       "}\n",
       "\n",
       "#sk-container-id-1 div.sk-label label.sk-toggleable__label,\n",
       "#sk-container-id-1 div.sk-label label {\n",
       "  /* The background is the default theme color */\n",
       "  color: var(--sklearn-color-text-on-default-background);\n",
       "}\n",
       "\n",
       "/* On hover, darken the color of the background */\n",
       "#sk-container-id-1 div.sk-label:hover label.sk-toggleable__label {\n",
       "  color: var(--sklearn-color-text);\n",
       "  background-color: var(--sklearn-color-unfitted-level-2);\n",
       "}\n",
       "\n",
       "/* Label box, darken color on hover, fitted */\n",
       "#sk-container-id-1 div.sk-label.fitted:hover label.sk-toggleable__label.fitted {\n",
       "  color: var(--sklearn-color-text);\n",
       "  background-color: var(--sklearn-color-fitted-level-2);\n",
       "}\n",
       "\n",
       "/* Estimator label */\n",
       "\n",
       "#sk-container-id-1 div.sk-label label {\n",
       "  font-family: monospace;\n",
       "  font-weight: bold;\n",
       "  display: inline-block;\n",
       "  line-height: 1.2em;\n",
       "}\n",
       "\n",
       "#sk-container-id-1 div.sk-label-container {\n",
       "  text-align: center;\n",
       "}\n",
       "\n",
       "/* Estimator-specific */\n",
       "#sk-container-id-1 div.sk-estimator {\n",
       "  font-family: monospace;\n",
       "  border: 1px dotted var(--sklearn-color-border-box);\n",
       "  border-radius: 0.25em;\n",
       "  box-sizing: border-box;\n",
       "  margin-bottom: 0.5em;\n",
       "  /* unfitted */\n",
       "  background-color: var(--sklearn-color-unfitted-level-0);\n",
       "}\n",
       "\n",
       "#sk-container-id-1 div.sk-estimator.fitted {\n",
       "  /* fitted */\n",
       "  background-color: var(--sklearn-color-fitted-level-0);\n",
       "}\n",
       "\n",
       "/* on hover */\n",
       "#sk-container-id-1 div.sk-estimator:hover {\n",
       "  /* unfitted */\n",
       "  background-color: var(--sklearn-color-unfitted-level-2);\n",
       "}\n",
       "\n",
       "#sk-container-id-1 div.sk-estimator.fitted:hover {\n",
       "  /* fitted */\n",
       "  background-color: var(--sklearn-color-fitted-level-2);\n",
       "}\n",
       "\n",
       "/* Specification for estimator info (e.g. \"i\" and \"?\") */\n",
       "\n",
       "/* Common style for \"i\" and \"?\" */\n",
       "\n",
       ".sk-estimator-doc-link,\n",
       "a:link.sk-estimator-doc-link,\n",
       "a:visited.sk-estimator-doc-link {\n",
       "  float: right;\n",
       "  font-size: smaller;\n",
       "  line-height: 1em;\n",
       "  font-family: monospace;\n",
       "  background-color: var(--sklearn-color-background);\n",
       "  border-radius: 1em;\n",
       "  height: 1em;\n",
       "  width: 1em;\n",
       "  text-decoration: none !important;\n",
       "  margin-left: 0.5em;\n",
       "  text-align: center;\n",
       "  /* unfitted */\n",
       "  border: var(--sklearn-color-unfitted-level-1) 1pt solid;\n",
       "  color: var(--sklearn-color-unfitted-level-1);\n",
       "}\n",
       "\n",
       ".sk-estimator-doc-link.fitted,\n",
       "a:link.sk-estimator-doc-link.fitted,\n",
       "a:visited.sk-estimator-doc-link.fitted {\n",
       "  /* fitted */\n",
       "  border: var(--sklearn-color-fitted-level-1) 1pt solid;\n",
       "  color: var(--sklearn-color-fitted-level-1);\n",
       "}\n",
       "\n",
       "/* On hover */\n",
       "div.sk-estimator:hover .sk-estimator-doc-link:hover,\n",
       ".sk-estimator-doc-link:hover,\n",
       "div.sk-label-container:hover .sk-estimator-doc-link:hover,\n",
       ".sk-estimator-doc-link:hover {\n",
       "  /* unfitted */\n",
       "  background-color: var(--sklearn-color-unfitted-level-3);\n",
       "  color: var(--sklearn-color-background);\n",
       "  text-decoration: none;\n",
       "}\n",
       "\n",
       "div.sk-estimator.fitted:hover .sk-estimator-doc-link.fitted:hover,\n",
       ".sk-estimator-doc-link.fitted:hover,\n",
       "div.sk-label-container:hover .sk-estimator-doc-link.fitted:hover,\n",
       ".sk-estimator-doc-link.fitted:hover {\n",
       "  /* fitted */\n",
       "  background-color: var(--sklearn-color-fitted-level-3);\n",
       "  color: var(--sklearn-color-background);\n",
       "  text-decoration: none;\n",
       "}\n",
       "\n",
       "/* Span, style for the box shown on hovering the info icon */\n",
       ".sk-estimator-doc-link span {\n",
       "  display: none;\n",
       "  z-index: 9999;\n",
       "  position: relative;\n",
       "  font-weight: normal;\n",
       "  right: .2ex;\n",
       "  padding: .5ex;\n",
       "  margin: .5ex;\n",
       "  width: min-content;\n",
       "  min-width: 20ex;\n",
       "  max-width: 50ex;\n",
       "  color: var(--sklearn-color-text);\n",
       "  box-shadow: 2pt 2pt 4pt #999;\n",
       "  /* unfitted */\n",
       "  background: var(--sklearn-color-unfitted-level-0);\n",
       "  border: .5pt solid var(--sklearn-color-unfitted-level-3);\n",
       "}\n",
       "\n",
       ".sk-estimator-doc-link.fitted span {\n",
       "  /* fitted */\n",
       "  background: var(--sklearn-color-fitted-level-0);\n",
       "  border: var(--sklearn-color-fitted-level-3);\n",
       "}\n",
       "\n",
       ".sk-estimator-doc-link:hover span {\n",
       "  display: block;\n",
       "}\n",
       "\n",
       "/* \"?\"-specific style due to the `<a>` HTML tag */\n",
       "\n",
       "#sk-container-id-1 a.estimator_doc_link {\n",
       "  float: right;\n",
       "  font-size: 1rem;\n",
       "  line-height: 1em;\n",
       "  font-family: monospace;\n",
       "  background-color: var(--sklearn-color-background);\n",
       "  border-radius: 1rem;\n",
       "  height: 1rem;\n",
       "  width: 1rem;\n",
       "  text-decoration: none;\n",
       "  /* unfitted */\n",
       "  color: var(--sklearn-color-unfitted-level-1);\n",
       "  border: var(--sklearn-color-unfitted-level-1) 1pt solid;\n",
       "}\n",
       "\n",
       "#sk-container-id-1 a.estimator_doc_link.fitted {\n",
       "  /* fitted */\n",
       "  border: var(--sklearn-color-fitted-level-1) 1pt solid;\n",
       "  color: var(--sklearn-color-fitted-level-1);\n",
       "}\n",
       "\n",
       "/* On hover */\n",
       "#sk-container-id-1 a.estimator_doc_link:hover {\n",
       "  /* unfitted */\n",
       "  background-color: var(--sklearn-color-unfitted-level-3);\n",
       "  color: var(--sklearn-color-background);\n",
       "  text-decoration: none;\n",
       "}\n",
       "\n",
       "#sk-container-id-1 a.estimator_doc_link.fitted:hover {\n",
       "  /* fitted */\n",
       "  background-color: var(--sklearn-color-fitted-level-3);\n",
       "}\n",
       "</style><div id=\"sk-container-id-1\" class=\"sk-top-container\"><div class=\"sk-text-repr-fallback\"><pre>XGBClassifier(base_score=None, booster=None, callbacks=None,\n",
       "              colsample_bylevel=None, colsample_bynode=None,\n",
       "              colsample_bytree=None, device=None, early_stopping_rounds=None,\n",
       "              enable_categorical=False, eval_metric=&#x27;mlogloss&#x27;,\n",
       "              feature_types=None, feature_weights=None, gamma=None,\n",
       "              grow_policy=None, importance_type=None,\n",
       "              interaction_constraints=None, learning_rate=None, max_bin=None,\n",
       "              max_cat_threshold=None, max_cat_to_onehot=None,\n",
       "              max_delta_step=None, max_depth=None, max_leaves=None,\n",
       "              min_child_weight=None, missing=nan, monotone_constraints=None,\n",
       "              multi_strategy=None, n_estimators=None, n_jobs=None,\n",
       "              num_parallel_tree=None, ...)</pre><b>In a Jupyter environment, please rerun this cell to show the HTML representation or trust the notebook. <br />On GitHub, the HTML representation is unable to render, please try loading this page with nbviewer.org.</b></div><div class=\"sk-container\" hidden><div class=\"sk-item\"><div class=\"sk-estimator fitted sk-toggleable\"><input class=\"sk-toggleable__control sk-hidden--visually\" id=\"sk-estimator-id-1\" type=\"checkbox\" checked><label for=\"sk-estimator-id-1\" class=\"sk-toggleable__label fitted sk-toggleable__label-arrow\"><div><div>XGBClassifier</div></div><div><a class=\"sk-estimator-doc-link fitted\" rel=\"noreferrer\" target=\"_blank\" href=\"https://xgboost.readthedocs.io/en/release_3.0.0/python/python_api.html#xgboost.XGBClassifier\">?<span>Documentation for XGBClassifier</span></a><span class=\"sk-estimator-doc-link fitted\">i<span>Fitted</span></span></div></label><div class=\"sk-toggleable__content fitted\"><pre>XGBClassifier(base_score=None, booster=None, callbacks=None,\n",
       "              colsample_bylevel=None, colsample_bynode=None,\n",
       "              colsample_bytree=None, device=None, early_stopping_rounds=None,\n",
       "              enable_categorical=False, eval_metric=&#x27;mlogloss&#x27;,\n",
       "              feature_types=None, feature_weights=None, gamma=None,\n",
       "              grow_policy=None, importance_type=None,\n",
       "              interaction_constraints=None, learning_rate=None, max_bin=None,\n",
       "              max_cat_threshold=None, max_cat_to_onehot=None,\n",
       "              max_delta_step=None, max_depth=None, max_leaves=None,\n",
       "              min_child_weight=None, missing=nan, monotone_constraints=None,\n",
       "              multi_strategy=None, n_estimators=None, n_jobs=None,\n",
       "              num_parallel_tree=None, ...)</pre></div> </div></div></div></div>"
      ],
      "text/plain": [
       "XGBClassifier(base_score=None, booster=None, callbacks=None,\n",
       "              colsample_bylevel=None, colsample_bynode=None,\n",
       "              colsample_bytree=None, device=None, early_stopping_rounds=None,\n",
       "              enable_categorical=False, eval_metric='mlogloss',\n",
       "              feature_types=None, feature_weights=None, gamma=None,\n",
       "              grow_policy=None, importance_type=None,\n",
       "              interaction_constraints=None, learning_rate=None, max_bin=None,\n",
       "              max_cat_threshold=None, max_cat_to_onehot=None,\n",
       "              max_delta_step=None, max_depth=None, max_leaves=None,\n",
       "              min_child_weight=None, missing=nan, monotone_constraints=None,\n",
       "              multi_strategy=None, n_estimators=None, n_jobs=None,\n",
       "              num_parallel_tree=None, ...)"
      ]
     },
     "execution_count": 45,
     "metadata": {},
     "output_type": "execute_result"
    }
   ],
   "source": [
    "model = XGBClassifier(use_label_encoder=False, eval_metric='mlogloss')\n",
    "model.fit(X_train, y_train_enc)\n"
   ]
  },
  {
   "cell_type": "code",
   "execution_count": 46,
   "id": "08947cd2",
   "metadata": {},
   "outputs": [
    {
     "name": "stdout",
     "output_type": "stream",
     "text": [
      "              precision    recall  f1-score   support\n",
      "\n",
      "     fietsen       0.00      0.00      0.00       483\n",
      "      rennen       0.00      0.00      0.00       930\n",
      "       trein       0.37      1.00      0.54       786\n",
      "\n",
      "    accuracy                           0.36      2199\n",
      "   macro avg       0.12      0.33      0.18      2199\n",
      "weighted avg       0.13      0.36      0.19      2199\n",
      "\n"
     ]
    },
    {
     "name": "stderr",
     "output_type": "stream",
     "text": [
      "c:\\Users\\jdrij\\anaconda3\\envs\\condaenv\\lib\\site-packages\\sklearn\\metrics\\_classification.py:1565: UndefinedMetricWarning: Precision is ill-defined and being set to 0.0 in labels with no predicted samples. Use `zero_division` parameter to control this behavior.\n",
      "  _warn_prf(average, modifier, f\"{metric.capitalize()} is\", len(result))\n",
      "c:\\Users\\jdrij\\anaconda3\\envs\\condaenv\\lib\\site-packages\\sklearn\\metrics\\_classification.py:1565: UndefinedMetricWarning: Precision is ill-defined and being set to 0.0 in labels with no predicted samples. Use `zero_division` parameter to control this behavior.\n",
      "  _warn_prf(average, modifier, f\"{metric.capitalize()} is\", len(result))\n",
      "c:\\Users\\jdrij\\anaconda3\\envs\\condaenv\\lib\\site-packages\\sklearn\\metrics\\_classification.py:1565: UndefinedMetricWarning: Precision is ill-defined and being set to 0.0 in labels with no predicted samples. Use `zero_division` parameter to control this behavior.\n",
      "  _warn_prf(average, modifier, f\"{metric.capitalize()} is\", len(result))\n"
     ]
    }
   ],
   "source": [
    "y_pred = model.predict(X_test)\n",
    "print(classification_report(y_test_enc, y_pred, target_names=le.classes_))\n"
   ]
  },
  {
   "cell_type": "code",
   "execution_count": 47,
   "id": "e74cc00a",
   "metadata": {},
   "outputs": [
    {
     "name": "stdout",
     "output_type": "stream",
     "text": [
      "Train accuracy: 1.0\n"
     ]
    }
   ],
   "source": [
    "print(\"Train accuracy:\", model.score(X_train, y_train_enc))"
   ]
  },
  {
   "cell_type": "code",
   "execution_count": 52,
   "id": "837a9fc9",
   "metadata": {},
   "outputs": [
    {
     "name": "stdout",
     "output_type": "stream",
     "text": [
      "=== XGBoost Prediction Comparison ===\n",
      "   Actual  Predicted Actual_Label Predicted_Label\n",
      "0       1          0       rennen         fietsen\n",
      "1       1          0       rennen         fietsen\n",
      "2       1          0       rennen         fietsen\n",
      "3       1          0       rennen         fietsen\n",
      "4       1          0       rennen         fietsen\n",
      "5       1          0       rennen         fietsen\n",
      "6       1          0       rennen         fietsen\n",
      "7       1          0       rennen         fietsen\n",
      "8       1          0       rennen         fietsen\n",
      "9       1          0       rennen         fietsen\n",
      "\n",
      "Total predictions: 2199\n",
      "Correct predictions: 786\n",
      "Incorrect predictions: 1413\n",
      "Accuracy: 0.3574\n"
     ]
    }
   ],
   "source": [
    "from sklearn.metrics import accuracy_score, confusion_matrix\n",
    "\n",
    "# Create a DataFrame comparing actual vs predicted values\n",
    "comparison_df_xgb = pd.DataFrame({\n",
    "    'Actual': y_test_enc,\n",
    "    'Predicted': y_pred\n",
    "})\n",
    "\n",
    "# Add readable label names\n",
    "comparison_df_xgb['Actual_Label'] = le.inverse_transform(comparison_df_xgb['Actual'])\n",
    "comparison_df_xgb['Predicted_Label'] = le.inverse_transform(comparison_df_xgb['Predicted'])\n",
    "\n",
    "# Show a sample of comparisons\n",
    "print(\"=== XGBoost Prediction Comparison ===\")\n",
    "print(comparison_df_xgb.head(10))\n",
    "\n",
    "# Count correct predictions\n",
    "correct_xgb = (comparison_df_xgb['Actual'] == comparison_df_xgb['Predicted']).sum()\n",
    "total_xgb = len(comparison_df_xgb)\n",
    "incorrect_xgb = total_xgb - correct_xgb\n",
    "accuracy_xgb = accuracy_score(y_test_enc, y_pred)\n",
    "\n",
    "# Summary\n",
    "print(f\"\\nTotal predictions: {total_xgb}\")\n",
    "print(f\"Correct predictions: {correct_xgb}\")\n",
    "print(f\"Incorrect predictions: {incorrect_xgb}\")\n",
    "print(f\"Accuracy: {accuracy_xgb:.4f}\")"
   ]
  },
  {
   "cell_type": "code",
   "execution_count": 53,
   "id": "d8298a08",
   "metadata": {},
   "outputs": [
    {
     "name": "stdout",
     "output_type": "stream",
     "text": [
      "RandomForest - Label to integer mapping: {'fietsen': 0, 'rennen': 1, 'trein': 2}\n",
      "=== RandomForest Classification Report ===\n",
      "              precision    recall  f1-score   support\n",
      "\n",
      "     fietsen       0.00      0.00      0.00       483\n",
      "      rennen       1.00      0.02      0.04       930\n",
      "       trein       0.37      1.00      0.54       786\n",
      "\n",
      "    accuracy                           0.37      2199\n",
      "   macro avg       0.46      0.34      0.19      2199\n",
      "weighted avg       0.56      0.37      0.21      2199\n",
      "\n"
     ]
    }
   ],
   "source": [
    "from sklearn.ensemble import RandomForestClassifier\n",
    "from sklearn.preprocessing import LabelEncoder\n",
    "from sklearn.metrics import classification_report\n",
    "\n",
    "# Features en labels splitsen\n",
    "X_train_rf = train_df_all.drop(columns=['transport_mode', 'Time (s)'])\n",
    "y_train_rf = train_df_all['transport_mode']\n",
    "\n",
    "X_test_rf = test_df.drop(columns=['transport_mode', 'Time (s)'])\n",
    "y_test_rf = test_df['transport_mode']\n",
    "\n",
    "# Encode labels (strings → integers)\n",
    "rf_label_encoder = LabelEncoder()\n",
    "y_train_rf_enc = rf_label_encoder.fit_transform(y_train_rf)\n",
    "y_test_rf_enc = rf_label_encoder.transform(y_test_rf)\n",
    "\n",
    "# Mapping afdrukken\n",
    "rf_label_mapping = dict(zip(rf_label_encoder.classes_, range(len(rf_label_encoder.classes_))))\n",
    "print(\"RandomForest - Label to integer mapping:\", rf_label_mapping)\n",
    "\n",
    "# Train het RandomForest model\n",
    "rf_model = RandomForestClassifier(n_estimators=100, random_state=42)\n",
    "rf_model.fit(X_train_rf, y_train_rf_enc)\n",
    "\n",
    "# Voorspellingen doen\n",
    "y_pred_rf = rf_model.predict(X_test_rf)\n",
    "\n",
    "# Evaluatie\n",
    "print(\"=== RandomForest Classification Report ===\")\n",
    "print(classification_report(y_test_rf_enc, y_pred_rf, target_names=rf_label_encoder.classes_))\n"
   ]
  },
  {
   "cell_type": "code",
   "execution_count": 54,
   "id": "4b1045c5",
   "metadata": {},
   "outputs": [
    {
     "name": "stdout",
     "output_type": "stream",
     "text": [
      "Accuracy: 0.3661\n"
     ]
    }
   ],
   "source": [
    "from sklearn.metrics import accuracy_score\n",
    "\n",
    "# Accuracy\n",
    "accuracy = accuracy_score(y_test_rf_enc, y_pred_rf)\n",
    "print(f\"Accuracy: {accuracy:.4f}\")\n"
   ]
  },
  {
   "cell_type": "code",
   "execution_count": 55,
   "id": "e0815a70",
   "metadata": {},
   "outputs": [
    {
     "name": "stdout",
     "output_type": "stream",
     "text": [
      "=== Prediction Comparison ===\n",
      "   Actual  Predicted Actual_Label Predicted_Label\n",
      "0       1          0       rennen         fietsen\n",
      "1       1          0       rennen         fietsen\n",
      "2       1          0       rennen         fietsen\n",
      "3       1          0       rennen         fietsen\n",
      "4       1          0       rennen         fietsen\n",
      "5       1          0       rennen         fietsen\n",
      "6       1          0       rennen         fietsen\n",
      "7       1          0       rennen         fietsen\n",
      "8       1          0       rennen         fietsen\n",
      "9       1          0       rennen         fietsen\n",
      "\n",
      "Total predictions: 2199\n",
      "Correct predictions: 805\n",
      "Incorrect predictions: 1394\n",
      "Accuracy: 0.3661\n"
     ]
    }
   ],
   "source": [
    "comparison_df = pd.DataFrame({\n",
    "    'Actual': y_test_rf_enc,\n",
    "    'Predicted': y_pred_rf\n",
    "})\n",
    "\n",
    "# Add the label names for readability\n",
    "comparison_df['Actual_Label'] = rf_label_encoder.inverse_transform(comparison_df['Actual'])\n",
    "comparison_df['Predicted_Label'] = rf_label_encoder.inverse_transform(comparison_df['Predicted'])\n",
    "\n",
    "# Print the first few rows\n",
    "print(\"=== Prediction Comparison ===\")\n",
    "print(comparison_df.head(10))\n",
    "\n",
    "# Count correct and incorrect predictions\n",
    "correct = (comparison_df['Actual'] == comparison_df['Predicted']).sum()\n",
    "total = len(comparison_df)\n",
    "incorrect = total - correct\n",
    "accuracy = accuracy_score(y_test_rf_enc, y_pred_rf)\n",
    "\n",
    "# Print summary\n",
    "print(f\"\\nTotal predictions: {total}\")\n",
    "print(f\"Correct predictions: {correct}\")\n",
    "print(f\"Incorrect predictions: {incorrect}\")\n",
    "print(f\"Accuracy: {accuracy:.4f}\")"
   ]
  },
  {
   "cell_type": "code",
   "execution_count": null,
   "id": "f49b2616",
   "metadata": {},
   "outputs": [],
   "source": [
    "feature_names = X_train.columns\n",
    "\n",
    "# Haal de importances op\n",
    "importances = model.feature_importances_\n",
    "\n",
    "# Zet om naar DataFrame voor overzicht\n",
    "importance_df = pd.DataFrame({\n",
    "    'Feature': feature_names,\n",
    "    'Importance': importances\n",
    "}).sort_values(by='Importance', ascending=False)"
   ]
  },
  {
   "cell_type": "code",
   "execution_count": null,
   "id": "89dd0762",
   "metadata": {},
   "outputs": [],
   "source": [
    "importance_df[importance_df['Importance'] > 0]"
   ]
  }
 ],
 "metadata": {
  "kernelspec": {
   "display_name": "condaenv",
   "language": "python",
   "name": "python3"
  },
  "language_info": {
   "codemirror_mode": {
    "name": "ipython",
    "version": 3
   },
   "file_extension": ".py",
   "mimetype": "text/x-python",
   "name": "python",
   "nbconvert_exporter": "python",
   "pygments_lexer": "ipython3",
   "version": "3.10.16"
  }
 },
 "nbformat": 4,
 "nbformat_minor": 5
}
